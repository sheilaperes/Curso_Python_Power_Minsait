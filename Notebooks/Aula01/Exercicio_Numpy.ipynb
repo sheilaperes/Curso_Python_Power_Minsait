{
 "cells": [
  {
   "cell_type": "markdown",
   "id": "4bece3fc",
   "metadata": {},
   "source": [
    "# Exercício"
   ]
  },
  {
   "cell_type": "markdown",
   "id": "6d0f5db4",
   "metadata": {},
   "source": [
    "1. Crie um array NumPy unidimensional com os números de 1 a 10.\n",
    "   \n",
    "2. Crie um array NumPy bidimensional 3x3 preenchido com zeros.\n",
    "   \n",
    "3. Crie um array NumPy bidimensional 4x4 preenchido com uns.\n",
    "   \n",
    "4. Crie um array NumPy com 20 valores aleatórios entre 0 e 100.\n",
    "5. Crie um array NumPy unidimensional com espaçamento de 0.5 entre 0 e 10.\n",
    "6. Crie um array NumPy bidimensional 5x5 com valores aleatórios inteiros entre 1 e 100.\n",
    "7. Dada a matriz A = [[1, 2, 3], [4, 5, 6], [7, 8, 9]], crie um array NumPy contendo apenas a segunda coluna da matriz A.\n",
    "8. Dado o array NumPy x = [1, 2, 3, 4, 5], crie um novo array onde todos os valores pares sejam substituídos por -1.\n",
    "9.  Dado o array NumPy x = [1, 2, 3, 4, 5], crie um novo array onde todos os valores maiores que 2 sejam substituídos por 0.\n",
    "10. Dada a matriz A = [[1, 2], [3, 4]] e a matriz B = [[5, 6], [7, 8]], calcule a multiplicação matricial entre A e B.\n",
    "11. Dado o array NumPy x = [1, 2, 3], crie:\n",
    "    \n",
    "        a) Crie um novo array com os valores de x repetidos três vezes.\n",
    "        b) Crie um novo array com os valores de x repetidos lado a lado três vezes.\n",
    "        c) Crie um novo array com os valores de x repetidos verticalmente três vezes.\n",
    "        d) Inverta a ordem dos elementos do array.\n",
    "12. Considere o seguinte array bidimensional vendas representando as vendas de produtos em diferentes regiões ao longo de 5 anos, onde cada coluna é um ano e cada linha uam região:\n",
    "    \n",
    "            vendas = np.array([\n",
    "                [100, 150, 200, 120, 180],  # Região 1\n",
    "                [80, 120, 150, 100, 130],   # Região 2\n",
    "                [200, 180, 220, 190, 210],  # Região 3\n",
    "                [150, 160, 170, 140, 180],  # Região 4\n",
    "                [120, 110, 130, 90, 140]    # Região 5\n",
    "            ])\n",
    "\n",
    "        a) Calcule e exiba a média de vendas de cada região ao longo dos 5 anos.\n",
    "        b) Determine o ano (1, 2, 3, 4 ou 5) com o maior número de vendas para cada região e exiba os anos correspondentes.\n",
    "        c) Encontre e exiba a região com a menor média de vendas ao longo dos 5 anos.\n",
    "        d) Crie um novo array chamado vendas_lojas, contendo apenas as vendas das lojas nos últimos dois anos.\n",
    "        e) Usando o array vendas_lojas do item acima, calcule e exiba a média de vendas de cada loja nos últimos dois anos.\n",
    "13. Considere o seguinte array bidimensional notas representando as notas dos alunos em diferentes disciplinas ao longo de 3 trimestres:\n",
    "\n",
    "            notas = np.array([\n",
    "                [8, 7, 6],\n",
    "                [9, 8, 7],\n",
    "                [6, 5, 4],\n",
    "                [7, 6, 5],\n",
    "                [10, 9, 8]\n",
    "             ])\n",
    "    \n",
    "        a) Crie um novo array chamado aprovados que contenha apenas as notas dos alunos que foram aprovados em todas as disciplinas nos três trimestres (nota maior ou igual a 7).\n",
    "        b) Calcule e exiba a média das notas dos alunos aprovados em cada disciplina.\n",
    "        c) Determine quantos alunos foram aprovados em todas as disciplinas nos três trimestres."
   ]
  }
 ],
 "metadata": {
  "kernelspec": {
   "display_name": "Python 3 (ipykernel)",
   "language": "python",
   "name": "python3"
  },
  "language_info": {
   "codemirror_mode": {
    "name": "ipython",
    "version": 3
   },
   "file_extension": ".py",
   "mimetype": "text/x-python",
   "name": "python",
   "nbconvert_exporter": "python",
   "pygments_lexer": "ipython3",
   "version": "3.9.7"
  }
 },
 "nbformat": 4,
 "nbformat_minor": 5
}
