{
 "cells": [
  {
   "cell_type": "markdown",
   "id": "ffcb22fd",
   "metadata": {},
   "source": [
    "# Exercício"
   ]
  },
  {
   "cell_type": "markdown",
   "id": "6d0f5db4",
   "metadata": {},
   "source": [
    "**Arquivo Exercicio_Pandas_1.csv**\n",
    "1. Carregue um arquivo CSV contendo dados de uma planilha e crie um DataFrame com o Pandas.\n",
    "   \n",
    "2. Exiba as primeiras linhas do DataFrame para verificar os dados que foram carregados.\n",
    "3. Verifique o número de linhas e colunas presentes no DataFrame.\n",
    "4. Utilize o método `info()` para obter informações sobre os tipos de dados e a contagem de valores não nulos em cada coluna.\n",
    "5. Selecione uma coluna específica do DataFrame e exiba suas estatísticas básicas usando o método `describe()`.\n",
    "6. Faça uma filtragem no DataFrame para exibir apenas as linhas que atendam a determinada condição.\n",
    "7. Crie uma nova coluna no DataFrame, calculando-a com base em outras colunas existentes.\n",
    "8. Agrupe o DataFrame com base em uma coluna específica e realize uma operação de agregação, como soma, média ou contagem.\n",
    "9.  Utilize a função `apply()` para aplicar uma função personalizada a uma coluna ou linha do DataFrame.\n",
    "10. Faça uma ordenação dos dados em ordem crescente ou decrescente com base em uma coluna específica.\n",
    "11. Utilize o recurso de indexação booleana para filtrar o DataFrame com base em várias condições.\n",
    "    \n",
    "**Arquivo Exercicio_Pandas_2.json**\n",
    "1.  Carregue um conjunto de dados complexo (por exemplo, de um arquivo JSON ou um banco de dados SQL) e crie um DataFrame usando o Pandas.\n",
    "   \n",
    "2.  Utilize técnicas de indexação avançada para selecionar, filtrar e modificar dados em um DataFrame.\n",
    "   \n",
    "**Arquivos Exercicio_Pandas_2.json e Exercicio_Pandas_3.csv**\n",
    "1.  Combine dois DataFrames usando operações de junção (merge) ou concatenação.\n",
    "   \n",
    "2.  Utilize o método `groupby()` para agrupar os dados por múltiplas colunas e realizar operações de agregação em grupos."
   ]
  }
 ],
 "metadata": {
  "kernelspec": {
   "display_name": "Python 3 (ipykernel)",
   "language": "python",
   "name": "python3"
  },
  "language_info": {
   "codemirror_mode": {
    "name": "ipython",
    "version": 3
   },
   "file_extension": ".py",
   "mimetype": "text/x-python",
   "name": "python",
   "nbconvert_exporter": "python",
   "pygments_lexer": "ipython3",
   "version": "3.9.7"
  }
 },
 "nbformat": 4,
 "nbformat_minor": 5
}
